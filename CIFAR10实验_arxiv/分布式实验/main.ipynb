{
 "cells": [
  {
   "cell_type": "code",
   "execution_count": 1,
   "metadata": {},
   "outputs": [],
   "source": [
    "import sys\n",
    "\n",
    "sys.path.append(\"/root/GanLuo/PullSum_MNIST/CIFAR10实验_arxiv\")\n",
    "import torch\n",
    "import numpy as np\n",
    "from resnet_model import new_ResNet18\n",
    "from prepare_data import distributed_cifar10_dataloaders, hetero_distributed_cifar10_dataloaders\n",
    "from training import train_PullSum, train_PullDiag, train_FRSD, train_FROZEN\n",
    "from useful_functions import *\n",
    "from new_network_func import *"
   ]
  },
  {
   "cell_type": "code",
   "execution_count": 2,
   "metadata": {},
   "outputs": [],
   "source": [
    "n = 20\n",
    "batch_size = 128\n",
    "p=0.8\n",
    "\n",
    "CIFAR10_root = (\n",
    "    \"/root/GanLuo/PullSum_MNIST/CIFAR10实验_arxiv/cifar-10-python/cifar-10-batches-py\"\n",
    ")\n",
    "\n",
    "trainloader_list, testloader = hetero_distributed_cifar10_dataloaders(\n",
    "    n, batch_size=batch_size, root=CIFAR10_root, seed=42, alpha=p\n",
    ")"
   ]
  },
  {
   "cell_type": "code",
   "execution_count": 3,
   "metadata": {},
   "outputs": [
    {
     "name": "stdout",
     "output_type": "stream",
     "text": [
      "A的第二大特征值: 0.9186474255414045\n",
      "A的beta: 0.9689136943864273\n",
      "A的spectral gap: 0.03108630561357273\n",
      "A的kappa: 1.6000000000000079\n",
      "S_A是: 422.9551215284598 \n",
      "\n",
      "1.2876e+00, 3.1346e+02\n"
     ]
    }
   ],
   "source": [
    "I = np.eye(n)\n",
    "one = np.ones(n)\n",
    "R = np.outer(one, one) / n\n",
    "from network_func import di_ring\n",
    "A,C=ring4()\n",
    "B=get_B(A=A,u=2*n,n=n)\n",
    "\n",
    "\"\"\" A, B = R, R \"\"\"\n",
    "show_row(A)\n",
    "_, __ = test_row(A)\n",
    "print(f\"{_:.4e}, {__:.4e}\")"
   ]
  },
  {
   "cell_type": "code",
   "execution_count": null,
   "metadata": {},
   "outputs": [
    {
     "name": "stdout",
     "output_type": "stream",
     "text": [
      "optimizer初始化成功!\n"
     ]
    },
    {
     "name": "stderr",
     "output_type": "stream",
     "text": [
      "Training Progress:   3%|▎         | 13/500 [02:27<1:28:55, 10.96s/it, epoch=13, test_accuracy=16.0600000000%, test_loss=2.2223663950, train_loss=2.0870623797]"
     ]
    }
   ],
   "source": [
    "lr = 8e-4\n",
    "beta=0.1\n",
    "epochs = 500\n",
    "warm_up = False\n",
    "\n",
    "train_loss_history, test_loss_history, test_accuracy_history = train_PullSum(\n",
    "    n=n,\n",
    "    A=A,\n",
    "    B=B,\n",
    "    model_class=new_ResNet18,\n",
    "    seed_for_model=42,\n",
    "    epochs=epochs,\n",
    "    lr=lr,\n",
    "    trainloader_list=trainloader_list,\n",
    "    testloader=testloader,\n",
    "    show_graph=True,\n",
    "    batch_size=batch_size,\n",
    "    csv_root=f\"/root/GanLuo/PullSum_MNIST/CIFAR10实验_arxiv/分布式实验/数值实验_大异质性数据/pullsum/异质性比例={p}, Ring4, n={n}, lr={lr}, batch_size={batch_size}.csv\",\n",
    "    warm_up=warm_up,\n",
    ")"
   ]
  },
  {
   "cell_type": "code",
   "execution_count": null,
   "metadata": {},
   "outputs": [],
   "source": [
    "lr = 1.5e-3\n",
    "beta=0.1\n",
    "epochs = 500\n",
    "warm_up = False\n",
    "\n",
    "train_loss_history, test_loss_history, test_accuracy_history = train_PullSum(\n",
    "    n=n,\n",
    "    A=A,\n",
    "    B=B,\n",
    "    model_class=new_ResNet18,\n",
    "    seed_for_model=42,\n",
    "    epochs=epochs,\n",
    "    lr=lr,\n",
    "    trainloader_list=trainloader_list,\n",
    "    testloader=testloader,\n",
    "    show_graph=True,\n",
    "    batch_size=batch_size,\n",
    "    csv_root=f\"/root/GanLuo/PullSum_MNIST/CIFAR10实验_arxiv/分布式实验/数值实验_大异质性数据/pullsum/异质性比例={p}, Ring4, n={n}, lr={lr}, batch_size={batch_size}.csv\",\n",
    "    warm_up=warm_up,\n",
    ")"
   ]
  },
  {
   "cell_type": "code",
   "execution_count": null,
   "metadata": {},
   "outputs": [],
   "source": [
    "lr = 2e-3\n",
    "beta=0.1\n",
    "epochs = 500\n",
    "warm_up = False\n",
    "\n",
    "train_loss_history, test_loss_history, test_accuracy_history = train_PullSum(\n",
    "    n=n,\n",
    "    A=A,\n",
    "    B=B,\n",
    "    model_class=new_ResNet18,\n",
    "    seed_for_model=42,\n",
    "    epochs=epochs,\n",
    "    lr=lr,\n",
    "    trainloader_list=trainloader_list,\n",
    "    testloader=testloader,\n",
    "    show_graph=True,\n",
    "    batch_size=batch_size,\n",
    "    csv_root=f\"/root/GanLuo/PullSum_MNIST/CIFAR10实验_arxiv/分布式实验/数值实验_大异质性数据/pullsum/异质性比例={p}, Ring4, n={n}, lr={lr}, batch_size={batch_size}.csv\",\n",
    "    warm_up=warm_up,\n",
    ")"
   ]
  },
  {
   "cell_type": "code",
   "execution_count": null,
   "metadata": {},
   "outputs": [],
   "source": [
    "lr = 1.5e-3\n",
    "beta=0.1\n",
    "epochs = 500\n",
    "warm_up = False\n",
    "\n",
    "train_loss_history, test_loss_history, test_accuracy_history = train_PullDiag(\n",
    "    n=n,\n",
    "    A=A,\n",
    "    model_class=new_ResNet18,\n",
    "    seed_for_model=42,\n",
    "    epochs=epochs,\n",
    "    lr=lr,\n",
    "    trainloader_list=trainloader_list,\n",
    "    testloader=testloader,\n",
    "    show_graph=True,\n",
    "    batch_size=batch_size,\n",
    "    csv_root=f\"/root/GanLuo/PullSum_MNIST/CIFAR10实验_arxiv/分布式实验/数值实验_大异质性数据/pulldiag/异质性比例={p}, Ring4, n={n}, lr={lr}, batch_size={batch_size}.csv\",\n",
    "    warm_up=warm_up,\n",
    ")"
   ]
  },
  {
   "cell_type": "code",
   "execution_count": null,
   "metadata": {},
   "outputs": [],
   "source": [
    "lr = 6e-4\n",
    "beta=0.1\n",
    "epochs = 300\n",
    "warm_up = False\n",
    "\n",
    "train_loss_history, test_loss_history, test_accuracy_history = train_PullDiag(\n",
    "    n=n,\n",
    "    A=A,\n",
    "    model_class=new_ResNet18,\n",
    "    seed_for_model=42,\n",
    "    epochs=epochs,\n",
    "    lr=lr,\n",
    "    trainloader_list=trainloader_list,\n",
    "    testloader=testloader,\n",
    "    show_graph=True,\n",
    "    batch_size=batch_size,\n",
    "    csv_root=f\"/root/GanLuo/PullSum_MNIST/CIFAR10实验_arxiv/分布式实验/数值实验_大异质性数据/pulldiag/异质性比例={p}, Ring4, n={n}, lr={lr}, batch_size={batch_size}.csv\",\n",
    "    warm_up=warm_up,\n",
    ")"
   ]
  },
  {
   "cell_type": "code",
   "execution_count": null,
   "metadata": {},
   "outputs": [],
   "source": [
    "lr = 2e-3\n",
    "beta=0.1\n",
    "epochs = 400\n",
    "warm_up = False\n",
    "\n",
    "train_loss_history, test_loss_history, test_accuracy_history = train_PullDiag(\n",
    "    n=n,\n",
    "    A=A,\n",
    "    model_class=new_ResNet18,\n",
    "    seed_for_model=42,\n",
    "    epochs=epochs,\n",
    "    lr=lr,\n",
    "    trainloader_list=trainloader_list,\n",
    "    testloader=testloader,\n",
    "    show_graph=True,\n",
    "    batch_size=batch_size,\n",
    "    csv_root=f\"/root/GanLuo/PullSum_MNIST/CIFAR10实验_arxiv/分布式实验/数值实验_大异质性数据/pulldiag/异质性比例={p}, Ring4, n={n}, lr={lr}, batch_size={batch_size}.csv\",\n",
    "    warm_up=warm_up,\n",
    ")"
   ]
  },
  {
   "cell_type": "code",
   "execution_count": 6,
   "metadata": {},
   "outputs": [],
   "source": [
    "import pandas as pd\n",
    "import matplotlib.pyplot as plt\n",
    "df1=pd.read_csv(\"/root/GanLuo/PullSum_MNIST/CIFAR10实验_arxiv/分布式实验/数值实验_大异质性数据/pulldiag/异质性比例=0.8, Ring4, n=20, lr=0.001, batch_size=128.csv\")\n",
    "df2=pd.read_csv(\"/root/GanLuo/PullSum_MNIST/CIFAR10实验_arxiv/分布式实验/数值实验_大异质性数据/pulldiag/异质性比例=0.8, Ring4, n=20, lr=0.0008, batch_size=128.csv\")"
   ]
  },
  {
   "cell_type": "code",
   "execution_count": 7,
   "metadata": {},
   "outputs": [
    {
     "data": {
      "image/png": "[encoded data removed]",
      "text/plain": [
       "<Figure size 640x480 with 1 Axes>"
      ]
     },
     "metadata": {},
     "output_type": "display_data"
    }
   ],
   "source": [
    "\n",
    "plt.plot(df1[\"Test_Accuracy\"],color='r',label='1e-3')\n",
    "plt.plot(df2[\"Test_Accuracy\"],color='b',label='8e-4')\n",
    "plt.legend()\n",
    "plt.show()"
   ]
  }
 ],
 "metadata": {
  "kernelspec": {
   "display_name": "base",
   "language": "python",
   "name": "python3"
  },
  "language_info": {
   "codemirror_mode": {
    "name": "ipython",
    "version": 3
   },
   "file_extension": ".py",
   "mimetype": "text/x-python",
   "name": "python",
   "nbconvert_exporter": "python",
   "pygments_lexer": "ipython3",
   "version": "3.12.3"
  }
 },
 "nbformat": 4,
 "nbformat_minor": 2
}
