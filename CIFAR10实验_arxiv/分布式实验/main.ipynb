{
 "cells": [
  {
   "cell_type": "code",
   "execution_count": 1,
   "metadata": {},
   "outputs": [],
   "source": [
    "import sys\n",
    "sys.path.append(\"/root/GanLuo/PullSum_MNIST/CIFAR10实验_arxiv\")\n",
    "import torch\n",
    "import numpy as np\n",
    "from resnet_model import new_ResNet18\n",
    "from prepare_data import distributed_cifar10_dataloaders\n",
    "from training import train_PullSum\n",
    "#from network_func import *\n",
    "from useful_functions import *\n",
    "from new_network_func import *"
   ]
  },
  {
   "cell_type": "code",
   "execution_count": 2,
   "metadata": {},
   "outputs": [],
   "source": [
    "n = 20\n",
    "batch_size = 256\n",
    "\n",
    "CIFAR10_root = (\n",
    "    \"/root/GanLuo/PullSum_MNIST/CIFAR10实验_arxiv/cifar-10-python/cifar-10-batches-py\"\n",
    ")\n",
    "\n",
    "trainloader_list, testloader = distributed_cifar10_dataloaders(\n",
    "    n, batch_size=batch_size, root=CIFAR10_root, seed=499\n",
    ")"
   ]
  },
  {
   "cell_type": "code",
   "execution_count": 3,
   "metadata": {},
   "outputs": [
    {
     "name": "stdout",
     "output_type": "stream",
     "text": [
      "A的第二大特征值: 0.9999999999999993\n",
      "A的beta: 4.518280359883032e-16\n",
      "A的spectral gap: 0.9999999999999996\n",
      "A的kappa: 1.0000000000000024\n",
      "S_A是: 8.944271909999184 \n",
      "\n",
      "1.0000e+00, 2.0000e+01\n"
     ]
    }
   ],
   "source": [
    "I = np.eye(n)\n",
    "one = np.ones(n)\n",
    "R = np.outer(one, one) / n\n",
    "\"\"\" A,C=ring4()\n",
    "B=get_B(A=A,u=2*n,n=n) \"\"\"\n",
    "\n",
    "A,B=R,R\n",
    "show_row(A)\n",
    "_, __ = test_row(A)\n",
    "print(f\"{_:.4e}, {__:.4e}\")"
   ]
  },
  {
   "cell_type": "code",
   "execution_count": null,
   "metadata": {},
   "outputs": [
    {
     "name": "stdout",
     "output_type": "stream",
     "text": [
      "optimizer初始化成功!\n"
     ]
    },
    {
     "name": "stderr",
     "output_type": "stream",
     "text": [
      "Training Progress:   5%|▌         | 5/100 [00:56<17:12, 10.87s/it, epoch=5, test_accuracy=10.5600000000%, test_loss=2.3024270701, train_loss=2.3015952158] "
     ]
    }
   ],
   "source": [
    "lr = 3e-2\n",
    "epochs = 100\n",
    "warm_up = False\n",
    "\n",
    "train_PullSum(\n",
    "    n=n,\n",
    "    A=A,\n",
    "    B=B,\n",
    "    model_class=new_ResNet18,\n",
    "    seed_for_model=42,\n",
    "    epochs=epochs,\n",
    "    lr=lr,\n",
    "    trainloader_list=trainloader_list,\n",
    "    testloader=testloader,\n",
    "    show_graph=True,\n",
    "    batch_size=batch_size,\n",
    "    csv_root=f\"/root/GanLuo/PullSum_MNIST/CIFAR10实验_arxiv/分布式实验/output_检查n>5/33不混合精度 ,3测试计算速度, 全连接, n={n}, lr={lr}, batch_size={batch_size}.csv\",\n",
    "    warm_up=warm_up,\n",
    ")"
   ]
  }
 ],
 "metadata": {
  "kernelspec": {
   "display_name": "base",
   "language": "python",
   "name": "python3"
  },
  "language_info": {
   "codemirror_mode": {
    "name": "ipython",
    "version": 3
   },
   "file_extension": ".py",
   "mimetype": "text/x-python",
   "name": "python",
   "nbconvert_exporter": "python",
   "pygments_lexer": "ipython3",
   "version": "3.12.3"
  }
 },
 "nbformat": 4,
 "nbformat_minor": 2
}
