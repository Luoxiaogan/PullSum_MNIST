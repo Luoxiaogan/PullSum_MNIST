{
 "cells": [
  {
   "cell_type": "code",
   "execution_count": 6,
   "metadata": {},
   "outputs": [],
   "source": [
    "import sys\n",
    "sys.path.append(\"/root/GanLuo/PullSum_MNIST/CIFAR10实验_arxiv\")\n",
    "import torch\n",
    "import numpy as np\n",
    "from resnet_model import new_ResNet18\n",
    "from prepare_data import distributed_cifar10_dataloaders, hetero_distributed_cifar10_dataloaders\n",
    "from training import train_PullSum, train_PullDiag, train_FRSD, train_FROZEN\n",
    "from useful_functions import *\n",
    "from new_network_func import *"
   ]
  },
  {
   "cell_type": "code",
   "execution_count": 7,
   "metadata": {},
   "outputs": [],
   "source": [
    "n = 20\n",
    "M = 5\n",
    "batch_size = 128*M\n",
    "p=0.5\n",
    "\n",
    "I = np.eye(n)\n",
    "one = np.ones(n)\n",
    "R = np.outer(one, one) / n\n",
    "from network_func import di_ring\n",
    "A,C=di_ring(n=n)\n",
    "A_M = np.linalg.matrix_power(A, M)\n",
    "n = A.shape[0]\n",
    "one = np.ones(n)\n",
    "result = np.dot(one,A_M)\n",
    "t = np.diag(1/result)\n",
    "A=A_M\n",
    "B=A_M@t\n",
    "CIFAR10_root = (\n",
    "    \"/root/GanLuo/PullSum_MNIST/CIFAR10实验_arxiv/cifar-10-python/cifar-10-batches-py\"\n",
    ")\n",
    "trainloader_list, testloader = hetero_distributed_cifar10_dataloaders(\n",
    "    n, batch_size=batch_size, root=CIFAR10_root, seed=42,alpha=p\n",
    ")"
   ]
  },
  {
   "cell_type": "code",
   "execution_count": null,
   "metadata": {},
   "outputs": [
    {
     "name": "stdout",
     "output_type": "stream",
     "text": [
      "optimizer初始化成功!\n"
     ]
    },
    {
     "name": "stderr",
     "output_type": "stream",
     "text": [
      "Training Progress:   2%|▎         | 10/400 [01:49<1:04:31,  9.93s/it, epoch=10, test_accuracy=10.0000000000%, test_loss=2.3057608223, train_loss=2.3253388822]"
     ]
    }
   ],
   "source": [
    "lr = 1e-3 \n",
    "beta = 0.1\n",
    "epochs = 400\n",
    "warm_up = False\n",
    "\n",
    "train_loss_history, test_loss_history, test_accuracy_history = train_PullSum(\n",
    "    n=n,\n",
    "    A=A,\n",
    "    B=B,\n",
    "    model_class=new_ResNet18,\n",
    "    seed_for_model=42,\n",
    "    epochs=epochs,\n",
    "    lr=lr,\n",
    "    trainloader_list=trainloader_list,\n",
    "    testloader=testloader,\n",
    "    show_graph=True,\n",
    "    batch_size=batch_size,\n",
    "    csv_root=f\"/root/GanLuo/PullSum_MNIST/CIFAR10实验_arxiv/数值实验_multi_gossip/Ring1, p={p}, n={n}, lr={lr}, M={M}, batch_size={batch_size}.csv\",\n",
    "    warm_up=warm_up,\n",
    ")"
   ]
  }
 ],
 "metadata": {
  "kernelspec": {
   "display_name": "base",
   "language": "python",
   "name": "python3"
  },
  "language_info": {
   "codemirror_mode": {
    "name": "ipython",
    "version": 3
   },
   "file_extension": ".py",
   "mimetype": "text/x-python",
   "name": "python",
   "nbconvert_exporter": "python",
   "pygments_lexer": "ipython3",
   "version": "3.12.3"
  }
 },
 "nbformat": 4,
 "nbformat_minor": 2
}
