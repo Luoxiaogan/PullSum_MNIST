{
 "cells": [
  {
   "cell_type": "code",
   "execution_count": 1,
   "metadata": {},
   "outputs": [],
   "source": [
    "import numpy as np\n",
    "import pandas as pd\n",
    "import matplotlib.pyplot as plt\n",
    "from useful_functions import *\n",
    "from opt_function import * \n",
    "from opt_function_for_real_data import *\n",
    "from real_data_process import *"
   ]
  },
  {
   "cell_type": "code",
   "execution_count": 2,
   "metadata": {},
   "outputs": [],
   "source": [
    "import importlib\n",
    "import opt_function_for_real_data\n",
    "\n",
    "# 修改了 opt_function_for_real_data 模块后，使用以下命令重新加载\n",
    "importlib.reload(opt_function_for_real_data)\n",
    "\n",
    "# 重新加载后再导入所有内容\n",
    "from opt_function_for_real_data import *"
   ]
  },
  {
   "cell_type": "code",
   "execution_count": 3,
   "metadata": {},
   "outputs": [
    {
     "name": "stdout",
     "output_type": "stream",
     "text": [
      "(12432, 784)\n"
     ]
    }
   ],
   "source": [
    "from scipy.io import loadmat \n",
    "m = loadmat('MNIST_digits_2_4.mat') # for Kun's data\n",
    "X_train = m['X_train']\n",
    "y_train = m['y_train'].transpose()\n",
    "y_train = y_train.reshape(-1)\n",
    "X_test = m[\"X_test\"]\n",
    "y_test = m[\"y_test\"].transpose()\n",
    "y_test = y_test.reshape(-1)\n",
    "\n",
    "print(X_train.shape)"
   ]
  }
 ],
 "metadata": {
  "kernelspec": {
   "display_name": "base",
   "language": "python",
   "name": "python3"
  },
  "language_info": {
   "codemirror_mode": {
    "name": "ipython",
    "version": 3
   },
   "file_extension": ".py",
   "mimetype": "text/x-python",
   "name": "python",
   "nbconvert_exporter": "python",
   "pygments_lexer": "ipython3",
   "version": "3.11.4"
  }
 },
 "nbformat": 4,
 "nbformat_minor": 2
}
