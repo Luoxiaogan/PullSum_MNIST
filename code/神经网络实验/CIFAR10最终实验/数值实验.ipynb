{
 "cells": [
  {
   "cell_type": "code",
   "execution_count": 1,
   "metadata": {},
   "outputs": [],
   "source": [
    "import os\n",
    "import torch\n",
    "import torchvision\n",
    "import numpy as np\n",
    "import pandas as pd\n",
    "import torch.nn as nn\n",
    "import torch.optim as optim\n",
    "import torchvision.transforms as transforms\n",
    "from resnet_model import old_ResNet18, new_ResNet18, init_params\n",
    "from network_func import *\n",
    "from optimizer import *\n",
    "from training import *\n",
    "from useful_functions import *\n",
    "from CIFAR10_data_preparation import *"
   ]
  },
  {
   "cell_type": "code",
   "execution_count": 3,
   "metadata": {},
   "outputs": [
    {
     "name": "stdout",
     "output_type": "stream",
     "text": [
      "A的第二大特征值: 0.7360318786212677\n",
      "A的beta: 0.810217360924142\n",
      "A的spectral gap: 0.18978263907585802\n",
      "A的kappa: 2.000000000000005\n",
      "S_A是: 39.898193112709905 \n",
      "\n",
      "1.8413e+00, 2.7000e+01\n"
     ]
    }
   ],
   "source": [
    "n=5\n",
    "I=np.eye(n)\n",
    "one=np.ones(n)\n",
    "R=np.outer(one,one)/n\n",
    "A,C=di_ring(n=n)\n",
    "B=get_B(A=A,u=2*n,n=n)\n",
    "show_row(A)\n",
    "_,__=test_row(A)\n",
    "print(f\"{_:.4e}, {__:.4e}\")\n",
    "h_data,y_data,X_test,y_test=cifar10_prepare_node_5_hard_shuffled()"
   ]
  },
  {
   "cell_type": "code",
   "execution_count": 4,
   "metadata": {},
   "outputs": [
    {
     "name": "stderr",
     "output_type": "stream",
     "text": [
      "\rTraining Progress:   0%|          | 0/50 [00:00<?, ?it/s]"
     ]
    }
   ],
   "source": [
    "import pandas as pd\n",
    "\n",
    "# 初始化生成器对象\n",
    "generator = new_train_PullSum(\n",
    "    n=n,\n",
    "    A=A,\n",
    "    B=B,\n",
    "    model_class=new_ResNet18,\n",
    "    seed_for_model=49,\n",
    "    criterion_class=nn.CrossEntropyLoss,\n",
    "    epochs=50,\n",
    "    lr=1e-2,\n",
    "    batch_size=100,\n",
    "    X_train_data=h_data,\n",
    "    y_train_data=y_data,\n",
    "    X_test_data=X_test,\n",
    "    y_test_data=y_test,\n",
    "    #compute_accuracy=CA_Resnet18,\n",
    "    show_graph=True,\n",
    "    try_init=False\n",
    ")\n",
    "\n",
    "df_history = pd.DataFrame(columns=[\"epoch\", \"train_loss\", \"train_accuracy\", \"test_accuracy\"])\n",
    "\n",
    "# 使用for循环逐步迭代，每个epoch结束后更新\n",
    "for epoch, (train_loss_history, train_accuracy_history, test_accuracy_history) in enumerate(generator, start=1):\n",
    "    # 获取当前epoch的最新数据\n",
    "    Sum_l2 = train_loss_history[-1]  # 获取当前 epoch 的训练损失\n",
    "    Sum_a2 = test_accuracy_history[-1]  # 获取当前 epoch 的测试集准确率\n",
    "    Sum_train_acc = train_accuracy_history[-1]  # 获取当前 epoch 的训练集准确率\n",
    "\n",
    "    # 将当前 epoch 的数据创建为 DataFrame\n",
    "    current_epoch_data = pd.DataFrame({\n",
    "        \"epoch\": [epoch],\n",
    "        \"train_loss\": [Sum_l2],\n",
    "        \"train_accuracy\": [Sum_train_acc],\n",
    "        \"test_accuracy\": [Sum_a2]\n",
    "    })\n",
    "\n",
    "    # 使用 pd.concat 合并 DataFrame\n",
    "    df_history = pd.concat([df_history, current_epoch_data], ignore_index=True)\n",
    "\n",
    "    # 打印当前 epoch 的结果\n",
    "    #print(f\"Epoch {epoch} 结束: 训练损失 = {Sum_l2}, 训练集准确率 = {Sum_train_acc}, 测试集准确率 = {Sum_a2}\")\n",
    "\n",
    "    # 每个 epoch 后保存 DataFrame 到本地\n",
    "    df_history.to_csv(\"/root/GanLuo/PullSum_MNIST/code/神经网络实验/CIFAR10最终实验/数据保存/ICLR/实验1,di_ring(n=5),无初始化,lr=1e-2(先试一试大的学习率).csv\", index=False)"
   ]
  }
 ],
 "metadata": {
  "kernelspec": {
   "display_name": "base",
   "language": "python",
   "name": "python3"
  },
  "language_info": {
   "codemirror_mode": {
    "name": "ipython",
    "version": 3
   },
   "file_extension": ".py",
   "mimetype": "text/x-python",
   "name": "python",
   "nbconvert_exporter": "python",
   "pygments_lexer": "ipython3",
   "version": "3.12.3"
  }
 },
 "nbformat": 4,
 "nbformat_minor": 2
}
