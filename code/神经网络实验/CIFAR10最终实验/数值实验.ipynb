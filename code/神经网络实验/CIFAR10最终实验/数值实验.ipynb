{
 "cells": [
  {
   "cell_type": "code",
   "execution_count": 1,
   "metadata": {},
   "outputs": [],
   "source": [
    "import os\n",
    "import torch\n",
    "import torchvision\n",
    "import numpy as np\n",
    "import pandas as pd\n",
    "import torch.nn as nn\n",
    "import torch.optim as optim\n",
    "import torchvision.transforms as transforms\n",
    "from resnet_model import old_ResNet18, new_ResNet18, init_params, new_ResNet34, new_ResNet50, new_ResNet101, new_ResNet152\n",
    "from network_func import *\n",
    "from optimizer import *\n",
    "from training import *\n",
    "from useful_functions import *\n",
    "from CIFAR10_data_preparation import *"
   ]
  },
  {
   "cell_type": "code",
   "execution_count": 2,
   "metadata": {},
   "outputs": [],
   "source": [
    "def cifar10_prepare_node_5_hard_shuffled(augment=False):\n",
    "    X_train, X_test, y_train, y_test = load_cifar10_data(augment=augment)\n",
    "\n",
    "    # 转换回PyTorch张量\n",
    "    X_train = torch.tensor(X_train, dtype=torch.float32)\n",
    "    X_test = torch.tensor(X_test, dtype=torch.float32)\n",
    "    y_train = torch.tensor(y_train, dtype=torch.long)\n",
    "    y_test = torch.tensor(y_test, dtype=torch.long)\n",
    "\n",
    "    # 打乱训练数据\n",
    "    perm = torch.randperm(X_train.size(0))\n",
    "    X_train = X_train[perm]\n",
    "    y_train = y_train[perm]\n",
    "\n",
    "    # 将整个训练数据复制5份\n",
    "    h_data = [X_train for _ in range(5)]\n",
    "    y_data = [y_train for _ in range(5)]\n",
    "    \n",
    "    return h_data, y_data, X_test, y_test"
   ]
  },
  {
   "cell_type": "code",
   "execution_count": 3,
   "metadata": {},
   "outputs": [
    {
     "name": "stdout",
     "output_type": "stream",
     "text": [
      "A的第二大特征值: 4.790584196710678e-25\n",
      "A的beta: 1.387778780781446e-16\n",
      "A的spectral gap: 0.9999999999999999\n",
      "A的kappa: 1.0000000000000002\n",
      "S_A是: 4.472135954999581 \n",
      "\n",
      "1.0000e+00, 5.0000e+00\n"
     ]
    }
   ],
   "source": [
    "n=5\n",
    "I=np.eye(n)\n",
    "one=np.ones(n)\n",
    "R=np.outer(one,one)/n\n",
    "#A,C=di_ring(n=n)\n",
    "#B=get_B(A=A,u=2*n,n=n)\n",
    "A,B=R,R\n",
    "show_row(A)\n",
    "_,__=test_row(A)\n",
    "print(f\"{_:.4e}, {__:.4e}\")\n",
    "h_data,y_data,X_test,y_test=cifar10_prepare_node_5_hard_shuffled()"
   ]
  },
  {
   "cell_type": "code",
   "execution_count": 4,
   "metadata": {},
   "outputs": [
    {
     "name": "stderr",
     "output_type": "stream",
     "text": [
      "Training Progress:   0%|          | 0/50 [08:04<?, ?it/s, epoch=1, loss=0.3034800992, test_accuracy=62.5000000000%, trian_accuracy=65.1580000000%]/tmp/ipykernel_31755/2843215253.py:41: FutureWarning: The behavior of DataFrame concatenation with empty or all-NA entries is deprecated. In a future version, this will no longer exclude empty or all-NA columns when determining the result dtypes. To retain the old behavior, exclude the relevant entries before the concat operation.\n",
      "  df_history = pd.concat([df_history, current_epoch_data], ignore_index=True)\n",
      "Training Progress:  10%|█         | 5/50 [45:42<6:51:20, 548.46s/it, epoch=5, loss=0.0062420864, test_accuracy=74.2100000000%, trian_accuracy=100.0000000000%]\n"
     ]
    },
    {
     "ename": "KeyboardInterrupt",
     "evalue": "",
     "output_type": "error",
     "traceback": [
      "\u001b[0;31m---------------------------------------------------------------------------\u001b[0m",
      "\u001b[0;31mKeyboardInterrupt\u001b[0m                         Traceback (most recent call last)",
      "Cell \u001b[0;32mIn[4], line 26\u001b[0m\n\u001b[1;32m     23\u001b[0m df_history \u001b[38;5;241m=\u001b[39m pd\u001b[38;5;241m.\u001b[39mDataFrame(columns\u001b[38;5;241m=\u001b[39m[\u001b[38;5;124m\"\u001b[39m\u001b[38;5;124mepoch\u001b[39m\u001b[38;5;124m\"\u001b[39m, \u001b[38;5;124m\"\u001b[39m\u001b[38;5;124mtrain_loss\u001b[39m\u001b[38;5;124m\"\u001b[39m, \u001b[38;5;124m\"\u001b[39m\u001b[38;5;124mtrain_accuracy\u001b[39m\u001b[38;5;124m\"\u001b[39m, \u001b[38;5;124m\"\u001b[39m\u001b[38;5;124mtest_accuracy\u001b[39m\u001b[38;5;124m\"\u001b[39m])\n\u001b[1;32m     25\u001b[0m \u001b[38;5;66;03m# 使用for循环逐步迭代，每个epoch结束后更新\u001b[39;00m\n\u001b[0;32m---> 26\u001b[0m \u001b[38;5;28;43;01mfor\u001b[39;49;00m\u001b[43m \u001b[49m\u001b[43mepoch\u001b[49m\u001b[43m,\u001b[49m\u001b[43m \u001b[49m\u001b[43m(\u001b[49m\u001b[43mtrain_loss_history\u001b[49m\u001b[43m,\u001b[49m\u001b[43m \u001b[49m\u001b[43mtrain_accuracy_history\u001b[49m\u001b[43m,\u001b[49m\u001b[43m \u001b[49m\u001b[43mtest_accuracy_history\u001b[49m\u001b[43m)\u001b[49m\u001b[43m \u001b[49m\u001b[38;5;129;43;01min\u001b[39;49;00m\u001b[43m \u001b[49m\u001b[38;5;28;43menumerate\u001b[39;49m\u001b[43m(\u001b[49m\u001b[43mgenerator\u001b[49m\u001b[43m,\u001b[49m\u001b[43m \u001b[49m\u001b[43mstart\u001b[49m\u001b[38;5;241;43m=\u001b[39;49m\u001b[38;5;241;43m1\u001b[39;49m\u001b[43m)\u001b[49m\u001b[43m:\u001b[49m\n\u001b[1;32m     27\u001b[0m \u001b[43m    \u001b[49m\u001b[38;5;66;43;03m# 获取当前epoch的最新数据\u001b[39;49;00m\n\u001b[1;32m     28\u001b[0m \u001b[43m    \u001b[49m\u001b[43mSum_l2\u001b[49m\u001b[43m \u001b[49m\u001b[38;5;241;43m=\u001b[39;49m\u001b[43m \u001b[49m\u001b[43mtrain_loss_history\u001b[49m\u001b[43m[\u001b[49m\u001b[38;5;241;43m-\u001b[39;49m\u001b[38;5;241;43m1\u001b[39;49m\u001b[43m]\u001b[49m\u001b[43m  \u001b[49m\u001b[38;5;66;43;03m# 获取当前 epoch 的训练损失\u001b[39;49;00m\n\u001b[1;32m     29\u001b[0m \u001b[43m    \u001b[49m\u001b[43mSum_a2\u001b[49m\u001b[43m \u001b[49m\u001b[38;5;241;43m=\u001b[39;49m\u001b[43m \u001b[49m\u001b[43mtest_accuracy_history\u001b[49m\u001b[43m[\u001b[49m\u001b[38;5;241;43m-\u001b[39;49m\u001b[38;5;241;43m1\u001b[39;49m\u001b[43m]\u001b[49m\u001b[43m  \u001b[49m\u001b[38;5;66;43;03m# 获取当前 epoch 的测试集准确率\u001b[39;49;00m\n",
      "File \u001b[0;32m~/GanLuo/PullSum_MNIST/code/神经网络实验/CIFAR10最终实验/training.py:585\u001b[0m, in \u001b[0;36mnew_train_PullSum\u001b[0;34m(n, A, B, model_class, seed_for_model, criterion_class, epochs, lr, X_train_data, y_train_data, X_test_data, y_test_data, batch_size, show_graph, try_init)\u001b[0m\n\u001b[1;32m    583\u001b[0m     h_data_train \u001b[38;5;241m=\u001b[39m batch_h_data\n\u001b[1;32m    584\u001b[0m     y_data_train \u001b[38;5;241m=\u001b[39m batch_y_data\n\u001b[0;32m--> 585\u001b[0m     loss \u001b[38;5;241m=\u001b[39m \u001b[43moptimizer\u001b[49m\u001b[38;5;241;43m.\u001b[39;49m\u001b[43mstep\u001b[49m\u001b[43m(\u001b[49m\u001b[43mclosure\u001b[49m\u001b[43m)\u001b[49m\n\u001b[1;32m    586\u001b[0m     epoch_loss \u001b[38;5;241m+\u001b[39m\u001b[38;5;241m=\u001b[39m loss\n\u001b[1;32m    587\u001b[0m epoch_loss \u001b[38;5;241m=\u001b[39m epoch_loss\u001b[38;5;241m/\u001b[39m\u001b[38;5;28mlen\u001b[39m(train_loaders[\u001b[38;5;241m0\u001b[39m])\u001b[38;5;66;03m#标准化\u001b[39;00m\n",
      "File \u001b[0;32m~/miniconda3/lib/python3.12/site-packages/torch/optim/optimizer.py:391\u001b[0m, in \u001b[0;36mOptimizer.profile_hook_step.<locals>.wrapper\u001b[0;34m(*args, **kwargs)\u001b[0m\n\u001b[1;32m    386\u001b[0m         \u001b[38;5;28;01melse\u001b[39;00m:\n\u001b[1;32m    387\u001b[0m             \u001b[38;5;28;01mraise\u001b[39;00m \u001b[38;5;167;01mRuntimeError\u001b[39;00m(\n\u001b[1;32m    388\u001b[0m                 \u001b[38;5;124mf\u001b[39m\u001b[38;5;124m\"\u001b[39m\u001b[38;5;132;01m{\u001b[39;00mfunc\u001b[38;5;132;01m}\u001b[39;00m\u001b[38;5;124m must return None or a tuple of (new_args, new_kwargs), but got \u001b[39m\u001b[38;5;132;01m{\u001b[39;00mresult\u001b[38;5;132;01m}\u001b[39;00m\u001b[38;5;124m.\u001b[39m\u001b[38;5;124m\"\u001b[39m\n\u001b[1;32m    389\u001b[0m             )\n\u001b[0;32m--> 391\u001b[0m out \u001b[38;5;241m=\u001b[39m \u001b[43mfunc\u001b[49m\u001b[43m(\u001b[49m\u001b[38;5;241;43m*\u001b[39;49m\u001b[43margs\u001b[49m\u001b[43m,\u001b[49m\u001b[43m \u001b[49m\u001b[38;5;241;43m*\u001b[39;49m\u001b[38;5;241;43m*\u001b[39;49m\u001b[43mkwargs\u001b[49m\u001b[43m)\u001b[49m\n\u001b[1;32m    392\u001b[0m \u001b[38;5;28mself\u001b[39m\u001b[38;5;241m.\u001b[39m_optimizer_step_code()\n\u001b[1;32m    394\u001b[0m \u001b[38;5;66;03m# call optimizer step post hooks\u001b[39;00m\n",
      "File \u001b[0;32m~/GanLuo/PullSum_MNIST/code/神经网络实验/CIFAR10最终实验/optimizer.py:185\u001b[0m, in \u001b[0;36mPullSum.step\u001b[0;34m(self, closure)\u001b[0m\n\u001b[1;32m    183\u001b[0m         weighted_sum \u001b[38;5;241m=\u001b[39m torch\u001b[38;5;241m.\u001b[39mzeros_like(params)\n\u001b[1;32m    184\u001b[0m         \u001b[38;5;28;01mfor\u001b[39;00m j, prev_param \u001b[38;5;129;01min\u001b[39;00m \u001b[38;5;28menumerate\u001b[39m(prev_params):\n\u001b[0;32m--> 185\u001b[0m             weighted_sum \u001b[38;5;241m+\u001b[39m\u001b[38;5;241m=\u001b[39m \u001b[38;5;28mself\u001b[39m\u001b[38;5;241m.\u001b[39mA[i, j] \u001b[38;5;241m*\u001b[39m prev_param\n\u001b[1;32m    186\u001b[0m         params\u001b[38;5;241m.\u001b[39mdata\u001b[38;5;241m.\u001b[39mcopy_(weighted_sum)\n\u001b[1;32m    188\u001b[0m \u001b[38;5;66;03m# step2: x = x - lr * (1 / correction) * v\u001b[39;00m\n",
      "\u001b[0;31mKeyboardInterrupt\u001b[0m: "
     ]
    }
   ],
   "source": [
    "import pandas as pd\n",
    "\n",
    "# 初始化生成器对象\n",
    "generator = new_train_PullSum(\n",
    "    n=n,\n",
    "    A=A,\n",
    "    B=B,\n",
    "    model_class=new_ResNet18,\n",
    "    seed_for_model=49,\n",
    "    criterion_class=nn.CrossEntropyLoss,\n",
    "    epochs=50,\n",
    "    lr=(1e-3)/5,\n",
    "    batch_size=25,\n",
    "    X_train_data=h_data,\n",
    "    y_train_data=y_data,\n",
    "    X_test_data=X_test,\n",
    "    y_test_data=y_test,\n",
    "    #compute_accuracy=CA_Resnet18,\n",
    "    show_graph=True,\n",
    "    try_init=True\n",
    ")\n",
    "\n",
    "df_history = pd.DataFrame(columns=[\"epoch\", \"train_loss\", \"train_accuracy\", \"test_accuracy\"])\n",
    "\n",
    "# 使用for循环逐步迭代，每个epoch结束后更新\n",
    "for epoch, (train_loss_history, train_accuracy_history, test_accuracy_history) in enumerate(generator, start=1):\n",
    "    # 获取当前epoch的最新数据\n",
    "    Sum_l2 = train_loss_history[-1]  # 获取当前 epoch 的训练损失\n",
    "    Sum_a2 = test_accuracy_history[-1]  # 获取当前 epoch 的测试集准确率\n",
    "    Sum_train_acc = train_accuracy_history[-1]  # 获取当前 epoch 的训练集准确率\n",
    "\n",
    "    # 将当前 epoch 的数据创建为 DataFrame\n",
    "    current_epoch_data = pd.DataFrame({\n",
    "        \"epoch\": [epoch],\n",
    "        \"train_loss\": [Sum_l2],\n",
    "        \"train_accuracy\": [Sum_train_acc],\n",
    "        \"test_accuracy\": [Sum_a2]\n",
    "    })\n",
    "\n",
    "    # 使用 pd.concat 合并 DataFrame\n",
    "    df_history = pd.concat([df_history, current_epoch_data], ignore_index=True)\n",
    "\n",
    "    # 打印当前 epoch 的结果\n",
    "    #print(f\"Epoch {epoch} 结束: 训练损失 = {Sum_l2}, 训练集准确率 = {Sum_train_acc}, 测试集准确率 = {Sum_a2}\")\n",
    "\n",
    "    # 每个 epoch 后保存 DataFrame 到本地\n",
    "    df_history.to_csv(\"/root/GanLuo/PullSum_MNIST/code/神经网络实验/CIFAR10最终实验/数据保存/ICLR/实验9,Resnet18,全连接,新的数据形式,batch_zise=25,2e-4.csv\", index=False)"
   ]
  }
 ],
 "metadata": {
  "kernelspec": {
   "display_name": "base",
   "language": "python",
   "name": "python3"
  },
  "language_info": {
   "codemirror_mode": {
    "name": "ipython",
    "version": 3
   },
   "file_extension": ".py",
   "mimetype": "text/x-python",
   "name": "python",
   "nbconvert_exporter": "python",
   "pygments_lexer": "ipython3",
   "version": "3.12.3"
  }
 },
 "nbformat": 4,
 "nbformat_minor": 2
}
